{
 "cells": [
  {
   "cell_type": "code",
   "execution_count": 7,
   "id": "dd9a4446-9ff3-45fe-b7ad-be0c63df5a1b",
   "metadata": {},
   "outputs": [
    {
     "ename": "PermissionError",
     "evalue": "[Errno 1] Operation not permitted",
     "output_type": "error",
     "traceback": [
      "\u001b[0;31m---------------------------------------------------------------------------\u001b[0m",
      "\u001b[0;31mPermissionError\u001b[0m                           Traceback (most recent call last)",
      "Cell \u001b[0;32mIn[7], line 1\u001b[0m\n\u001b[0;32m----> 1\u001b[0m \u001b[38;5;28;01mimport\u001b[39;00m \u001b[38;5;21;01mnumpy\u001b[39;00m \u001b[38;5;28;01mas\u001b[39;00m \u001b[38;5;21;01mnp\u001b[39;00m\n\u001b[1;32m      2\u001b[0m \u001b[38;5;28;01mimport\u001b[39;00m \u001b[38;5;21;01mpandas\u001b[39;00m \u001b[38;5;28;01mas\u001b[39;00m \u001b[38;5;21;01mpd\u001b[39;00m\n\u001b[1;32m      3\u001b[0m \u001b[38;5;28;01mimport\u001b[39;00m \u001b[38;5;21;01mseaborn\u001b[39;00m \u001b[38;5;28;01mas\u001b[39;00m \u001b[38;5;21;01msns\u001b[39;00m\n",
      "File \u001b[0;32m<frozen importlib._bootstrap>:1176\u001b[0m, in \u001b[0;36m_find_and_load\u001b[0;34m(name, import_)\u001b[0m\n",
      "File \u001b[0;32m<frozen importlib._bootstrap>:1138\u001b[0m, in \u001b[0;36m_find_and_load_unlocked\u001b[0;34m(name, import_)\u001b[0m\n",
      "File \u001b[0;32m<frozen importlib._bootstrap>:1078\u001b[0m, in \u001b[0;36m_find_spec\u001b[0;34m(name, path, target)\u001b[0m\n",
      "File \u001b[0;32m<frozen importlib._bootstrap_external>:1504\u001b[0m, in \u001b[0;36mfind_spec\u001b[0;34m(cls, fullname, path, target)\u001b[0m\n",
      "File \u001b[0;32m<frozen importlib._bootstrap_external>:1473\u001b[0m, in \u001b[0;36m_get_spec\u001b[0;34m(cls, fullname, path, target)\u001b[0m\n",
      "File \u001b[0;32m<frozen importlib._bootstrap_external>:1431\u001b[0m, in \u001b[0;36m_path_importer_cache\u001b[0;34m(cls, path)\u001b[0m\n",
      "\u001b[0;31mPermissionError\u001b[0m: [Errno 1] Operation not permitted"
     ]
    }
   ],
   "source": [
    "import numpy as np\n",
    "import pandas as pd\n",
    "import seaborn as sns\n",
    "import sklearn\n",
    "import matplotlib.pyplot as plt\n",
    "from PIL import Image"
   ]
  },
  {
   "cell_type": "markdown",
   "id": "913ebce7-bdf7-47c4-841d-98005dcc8e72",
   "metadata": {},
   "source": [
    "### Week 3: Histopathologic Cancer Detection"
   ]
  },
  {
   "cell_type": "markdown",
   "id": "a6030d1e-2749-430a-8b21-55eaff9cf12b",
   "metadata": {},
   "source": [
    "#### Problem:\n",
    "This project involves analyzing medical images and building a good CNN model to identify images showing symptoms of metastatic cancer. The data is sourced from https://www.kaggle.com/c/histopathologic-cancer-detection/overview, which itself is a slightly modified version of the PatchCamelyon dataset (supposedly with duplicates removed). The dataset is fairly large, with about 220,000 images in the training data (and another 57.5k for the test set). The training data comes with labels (for whether there is metastatic cancer)."
   ]
  },
  {
   "cell_type": "markdown",
   "id": "aa551ef9-5540-4595-8e55-595f6d5f5817",
   "metadata": {},
   "source": [
    "#### EDA:\n",
    "Show a few visualizations like histograms. Describe any data cleaning procedures. Based on your EDA, what is your plan of analysis? \n",
    "\n",
    "Starting with importing the training labels into a dataframe. Label data is pretty straightforward, 220,025 entries, with an id as well as the actual label (0 for no cancer, 1 for with cancer)."
   ]
  },
  {
   "cell_type": "code",
   "execution_count": 3,
   "id": "d8d03266-1895-4e5c-94a3-4beda5ea3868",
   "metadata": {},
   "outputs": [
    {
     "name": "stdout",
     "output_type": "stream",
     "text": [
      "<class 'pandas.core.frame.DataFrame'>\n",
      "RangeIndex: 220025 entries, 0 to 220024\n",
      "Data columns (total 2 columns):\n",
      " #   Column  Non-Null Count   Dtype \n",
      "---  ------  --------------   ----- \n",
      " 0   id      220025 non-null  object\n",
      " 1   label   220025 non-null  object\n",
      "dtypes: object(2)\n",
      "memory usage: 3.4+ MB\n",
      "None\n",
      "Index(['id', 'label'], dtype='object')\n"
     ]
    },
    {
     "data": {
      "text/html": [
       "<div>\n",
       "<style scoped>\n",
       "    .dataframe tbody tr th:only-of-type {\n",
       "        vertical-align: middle;\n",
       "    }\n",
       "\n",
       "    .dataframe tbody tr th {\n",
       "        vertical-align: top;\n",
       "    }\n",
       "\n",
       "    .dataframe thead th {\n",
       "        text-align: right;\n",
       "    }\n",
       "</style>\n",
       "<table border=\"1\" class=\"dataframe\">\n",
       "  <thead>\n",
       "    <tr style=\"text-align: right;\">\n",
       "      <th></th>\n",
       "      <th>id</th>\n",
       "      <th>label</th>\n",
       "    </tr>\n",
       "  </thead>\n",
       "  <tbody>\n",
       "    <tr>\n",
       "      <th>0</th>\n",
       "      <td>f38a6374c348f90b587e046aac6079959adf3835</td>\n",
       "      <td>0</td>\n",
       "    </tr>\n",
       "    <tr>\n",
       "      <th>1</th>\n",
       "      <td>c18f2d887b7ae4f6742ee445113fa1aef383ed77</td>\n",
       "      <td>1</td>\n",
       "    </tr>\n",
       "    <tr>\n",
       "      <th>2</th>\n",
       "      <td>755db6279dae599ebb4d39a9123cce439965282d</td>\n",
       "      <td>0</td>\n",
       "    </tr>\n",
       "    <tr>\n",
       "      <th>3</th>\n",
       "      <td>bc3f0c64fb968ff4a8bd33af6971ecae77c75e08</td>\n",
       "      <td>0</td>\n",
       "    </tr>\n",
       "    <tr>\n",
       "      <th>4</th>\n",
       "      <td>068aba587a4950175d04c680d38943fd488d6a9d</td>\n",
       "      <td>0</td>\n",
       "    </tr>\n",
       "  </tbody>\n",
       "</table>\n",
       "</div>"
      ],
      "text/plain": [
       "                                         id label\n",
       "0  f38a6374c348f90b587e046aac6079959adf3835     0\n",
       "1  c18f2d887b7ae4f6742ee445113fa1aef383ed77     1\n",
       "2  755db6279dae599ebb4d39a9123cce439965282d     0\n",
       "3  bc3f0c64fb968ff4a8bd33af6971ecae77c75e08     0\n",
       "4  068aba587a4950175d04c680d38943fd488d6a9d     0"
      ]
     },
     "execution_count": 3,
     "metadata": {},
     "output_type": "execute_result"
    }
   ],
   "source": [
    "label_df = pd.read_csv('histopathologic-cancer-detection/train_labels.csv', dtype=str)\n",
    "train_image_path = ('histopathologic-cancer-detection/train/')\n",
    "\n",
    "print(label_df.info())\n",
    "print(label_df.columns)\n",
    "label_df.head()\n"
   ]
  },
  {
   "cell_type": "markdown",
   "id": "6c04362d-2665-4d27-b140-674048f8b6dc",
   "metadata": {},
   "source": [
    "Checking for null values or duplicate rows. The Kaggle mentions duplicates were removed, but want to make sure. Doesn't seem like there's any missing or duplicated values though, so not much to clean."
   ]
  },
  {
   "cell_type": "code",
   "execution_count": 10,
   "id": "97d55215-fa4d-4acf-a82b-00e7e1bf860e",
   "metadata": {},
   "outputs": [
    {
     "name": "stdout",
     "output_type": "stream",
     "text": [
      "Null count: id       0\n",
      "label    0\n",
      "dtype: int64\n",
      "Duplicate rows:  0\n"
     ]
    }
   ],
   "source": [
    "# Check for null\n",
    "na_count = label_df.isna().sum()\n",
    "print(\"Null count:\", na_count)\n",
    "\n",
    "# Check for dupes\n",
    "dupes = label_df['id'].duplicated()\n",
    "print(\"Duplicate rows: \", dupes.sum())"
   ]
  },
  {
   "cell_type": "markdown",
   "id": "24548544-5468-48a7-8929-cef5318b9eec",
   "metadata": {},
   "source": [
    "I want to check the distribution of images labeled 0 and 1 to see if it's imbalanced. Overall, there's more 0s than 1s, but it's not overly imbalanced."
   ]
  },
  {
   "cell_type": "code",
   "execution_count": 12,
   "id": "13b0afb9-feb5-4161-bc3c-cd6fd9080915",
   "metadata": {},
   "outputs": [
    {
     "data": {
      "image/png": "[encoded data removed]",
      "text/plain": [
       "<Figure size 640x480 with 1 Axes>"
      ]
     },
     "metadata": {},
     "output_type": "display_data"
    }
   ],
   "source": [
    "# Draw 0/1 label plot\n",
    "sns.countplot(x='label', data=label_df)\n",
    "plt.title('Label Distribution')\n",
    "plt.show()"
   ]
  },
  {
   "cell_type": "code",
   "execution_count": null,
   "id": "213dc433-f2f5-4375-8a9f-f86a33991dc0",
   "metadata": {},
   "outputs": [],
   "source": []
  },
  {
   "cell_type": "code",
   "execution_count": null,
   "id": "8c715ec4-afc1-4963-9075-d8f5844f3b3f",
   "metadata": {},
   "outputs": [],
   "source": []
  },
  {
   "cell_type": "markdown",
   "id": "499e0ccd-192b-4a0f-8a88-1ebb430e670f",
   "metadata": {},
   "source": [
    "Taking a look at some sample images for reference."
   ]
  },
  {
   "cell_type": "code",
   "execution_count": null,
   "id": "857bc47e-11db-40b2-a4cd-970d2dc1dcaf",
   "metadata": {},
   "outputs": [],
   "source": []
  },
  {
   "cell_type": "code",
   "execution_count": null,
   "id": "f38a543e-6904-499a-aefd-e9b2652f25b8",
   "metadata": {},
   "outputs": [],
   "source": []
  },
  {
   "cell_type": "code",
   "execution_count": null,
   "id": "0f27264a-11ff-44b0-9b82-8a9fc0eb182d",
   "metadata": {},
   "outputs": [],
   "source": []
  },
  {
   "cell_type": "code",
   "execution_count": 4,
   "id": "9f0b2ce9-6d47-4860-8eaa-20effbdb7521",
   "metadata": {},
   "outputs": [],
   "source": [
    "\n",
    "#Showing some samples from 0 and 1\n"
   ]
  },
  {
   "cell_type": "markdown",
   "id": "b6a8cb42-538d-48e4-80cb-a5cd407ce3b8",
   "metadata": {},
   "source": [
    "#### Model Architecture:\n",
    "Describe your model architecture and reasoning for why you believe that specific architecture would be suitable for this problem. Compare multiple architectures and tune hyperparameters. "
   ]
  },
  {
   "cell_type": "code",
   "execution_count": null,
   "id": "df1e485c-2f18-485e-85e1-81f6918d25ab",
   "metadata": {},
   "outputs": [],
   "source": [
    "#Placeholder"
   ]
  },
  {
   "cell_type": "markdown",
   "id": "fcbfd292-6004-4af7-8454-d0046cd1c788",
   "metadata": {},
   "source": [
    "#### Results and Analysis\n",
    "Run hyperparameter tuning, try different architectures for comparison, apply techniques to improve training or performance, and discuss what helped.\n",
    "\n",
    "Includes results with tables and figures. There is an analysis of why or why not something worked well, troubleshooting, and a hyperparameter optimization procedure summary."
   ]
  },
  {
   "cell_type": "code",
   "execution_count": null,
   "id": "8614bf0c-a122-47b6-9f9d-1ab4ed9772b4",
   "metadata": {},
   "outputs": [],
   "source": [
    "#Placeholder"
   ]
  },
  {
   "cell_type": "markdown",
   "id": "80a3f5f3-3094-4309-9f95-8dbc17906e26",
   "metadata": {},
   "source": [
    "#### Conclusion\n",
    "Discuss and interpret results as well as learnings and takeaways. What did and did not help improve the performance of your models? What improvements could you try in the future?"
   ]
  },
  {
   "cell_type": "code",
   "execution_count": 3,
   "id": "bb97f2f7-6dfa-44b4-afba-a3816c2a1193",
   "metadata": {},
   "outputs": [],
   "source": [
    "#placeholder"
   ]
  },
  {
   "cell_type": "code",
   "execution_count": null,
   "id": "81f729f4-d82c-4fb9-9b24-173c7dc3cf52",
   "metadata": {},
   "outputs": [],
   "source": []
  }
 ],
 "metadata": {
  "kernelspec": {
   "display_name": "Python 3 (ipykernel)",
   "language": "python",
   "name": "python3"
  },
  "language_info": {
   "codemirror_mode": {
    "name": "ipython",
    "version": 3
   },
   "file_extension": ".py",
   "mimetype": "text/x-python",
   "name": "python",
   "nbconvert_exporter": "python",
   "pygments_lexer": "ipython3",
   "version": "3.11.4"
  }
 },
 "nbformat": 4,
 "nbformat_minor": 5
}
